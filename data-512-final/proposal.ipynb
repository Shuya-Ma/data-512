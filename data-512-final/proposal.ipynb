{
 "metadata": {
  "language_info": {
   "codemirror_mode": {
    "name": "ipython",
    "version": 3
   },
   "file_extension": ".py",
   "mimetype": "text/x-python",
   "name": "python",
   "nbconvert_exporter": "python",
   "pygments_lexer": "ipython3",
   "version": 3
  },
  "orig_nbformat": 2
 },
 "nbformat": 4,
 "nbformat_minor": 2,
 "cells": [
  {
   "source": [
    "# 512 Final Project"
   ],
   "cell_type": "markdown",
   "metadata": {}
  },
  {
   "source": [
    "## Motivation and problem statement"
   ],
   "cell_type": "markdown",
   "metadata": {}
  },
  {
   "source": [
    "The goal of this project is to analyze the differences of suicide rate among countries, gender goups and age groups, as well as to figure out if there are any factors that may influence the suicide rate."
   ],
   "cell_type": "markdown",
   "metadata": {}
  },
  {
   "source": [
    "## Data"
   ],
   "cell_type": "markdown",
   "metadata": {}
  },
  {
   "source": [
    "#### Description"
   ],
   "cell_type": "markdown",
   "metadata": {}
  },
  {
   "source": [
    "The dataset using in this project is Suicide Rates Overview 1985 to 2016, which can be found on Kaggle. [Here](https://www.kaggle.com/russellyates88/suicide-rates-overview-1985-to-2016)\n",
    "\n",
    "The dataset was pulled from four other datasets listed in the references.\n",
    "\n",
    "Column variables with description:\n",
    "- Country \n",
    "- Year : 1985 - 2016\n",
    "- sex : Male/Female\n",
    "- age : age group\n",
    "- suicides_no : Number of suicides\n",
    "- population : Number of all living people\n",
    "- suicides/100k pop : suicide rate (per 100k population)\n",
    "- country-year : country-year composite key\n",
    "- HDI for year : Human development index\n",
    "- gdp_for_year\n",
    "- gdp_per_capita\n",
    "\n",
    "\n"
   ],
   "cell_type": "markdown",
   "metadata": {}
  },
  {
   "source": [
    "#### References"
   ],
   "cell_type": "markdown",
   "metadata": {}
  },
  {
   "source": [
    "United Nations Development Program. (2018). Human development index (HDI). Retrieved from http://hdr.undp.org/en/indicators/137506\n",
    "\n",
    "World Bank. (2018). World development indicators: GDP (current US$) by country:1985 to 2016. Retrieved from http://databank.worldbank.org/data/source/world-development-indicators#\n",
    "\n",
    "Szamil. (2017). Suicide in the Twenty-First Century. Retrieved from https://www.kaggle.com/szamil/suicide-in-the-twenty-first-century/notebook\n",
    "\n",
    "World Health Organization. (2018). Suicide prevention. Retrieved from http://www.who.int/mental_health/suicide-prevention/en/"
   ],
   "cell_type": "markdown",
   "metadata": {}
  },
  {
   "source": [
    "## Unknowns and dependencies"
   ],
   "cell_type": "markdown",
   "metadata": {}
  },
  {
   "source": [
    "## Research questions and/or hypotheses\n"
   ],
   "cell_type": "markdown",
   "metadata": {}
  },
  {
   "source": [
    "Questions:\n",
    "\n",
    "Hypotheses: "
   ],
   "cell_type": "markdown",
   "metadata": {}
  },
  {
   "source": [
    "## Background/Related Work:"
   ],
   "cell_type": "markdown",
   "metadata": {}
  },
  {
   "source": [
    "Szamil. (2017). Suicide in the Twenty-First Century. Retrieved from https://www.kaggle.com/szamil/suicide-in-the-twenty-first-century/notebook"
   ],
   "cell_type": "markdown",
   "metadata": {}
  },
  {
   "source": [
    "## Methodology"
   ],
   "cell_type": "markdown",
   "metadata": {}
  }
 ]
}