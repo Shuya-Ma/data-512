{
 "metadata": {
  "language_info": {
   "codemirror_mode": {
    "name": "ipython",
    "version": 3
   },
   "file_extension": ".py",
   "mimetype": "text/x-python",
   "name": "python",
   "nbconvert_exporter": "python",
   "pygments_lexer": "ipython3",
   "version": 3
  },
  "orig_nbformat": 2
 },
 "nbformat": 4,
 "nbformat_minor": 2,
 "cells": [
  {
   "source": [
    "# 512 Final Project"
   ],
   "cell_type": "markdown",
   "metadata": {}
  },
  {
   "source": [
    "## Motivation and problem statement"
   ],
   "cell_type": "markdown",
   "metadata": {}
  },
  {
   "source": [
    "World Health Organization (WHO) states that \"Close to 800,000 people die due to suicide every year, which is one person every 40 seconds\". Suicide has been a global phenomenon and it is more common than we might think. \n",
    "\n",
    "The goal of this project is to analyze the differences of suicide rate among countries, gender groups and age groups, as well as to figure out if there are any factors that may be correlated with the suicide rate."
   ],
   "cell_type": "markdown",
   "metadata": {}
  },
  {
   "source": [
    "## Data"
   ],
   "cell_type": "markdown",
   "metadata": {}
  },
  {
   "source": [
    "#### Description"
   ],
   "cell_type": "markdown",
   "metadata": {}
  },
  {
   "source": [
    "The main dataset using in this project is Suicide Rates Overview 1985 to 2016, which can be found on Kaggle. [Here](https://www.kaggle.com/russellyates88/suicide-rates-overview-1985-to-2016). The dataset was pulled from four other datasets listed in the references.\n",
    "\n",
    "The dataset contains suicide related data of 101 countries from 1985 to 2016.\n",
    "\n",
    "The descriptions of column variables are listed below:\n",
    "- Country \n",
    "- Year : 1985 - 2016\n",
    "- sex : Male/Female\n",
    "- age : age group (5-14, 15-24, 25-34, 35-54, 55-74, 75+)\n",
    "- suicides_no : Number of suicides\n",
    "- population : Number of all living people\n",
    "- suicides/100k pop : suicide rate (per 100k population)\n",
    "- country-year : country-year composite key\n",
    "- HDI for year : Human development index of each country at given year\n",
    "- gdp_for_year : GDP of each country at given year\n",
    "- gdp_per_capita : GDP per capita of each country at given year\n",
    "\n",
    "\n"
   ],
   "cell_type": "markdown",
   "metadata": {}
  },
  {
   "source": [
    "#### References"
   ],
   "cell_type": "markdown",
   "metadata": {}
  },
  {
   "source": [
    "United Nations Development Program. (2018). Human development index (HDI). Retrieved from http://hdr.undp.org/en/indicators/137506\n",
    "\n",
    "World Bank. (2018). World development indicators: GDP (current US$) by country:1985 to 2016. Retrieved from http://databank.worldbank.org/data/source/world-development-indicators#\n",
    "\n",
    "Szamil. (2017). Suicide in the Twenty-First Century. Retrieved from https://www.kaggle.com/szamil/suicide-in-the-twenty-first-century/notebook\n",
    "\n",
    "World Health Organization. (2018). Suicide prevention. Retrieved from http://www.who.int/mental_health/suicide-prevention/en/ "
   ],
   "cell_type": "markdown",
   "metadata": {}
  },
  {
   "source": [
    "## Unknowns and dependencies\n",
    "\n",
    "I am currently still searching some extra datasets, such as happiness index data, unemployment rate data, that might have potential correlations with the suicide rate. One of my concerns would be that since the suicide rate dataset only has annual data, it might be hard to find correlations with other factors and there might also be some potential difficulties joining the factor datasets with the suicide data. Also, some of the suicide data are missing for certrain years. Therefore, it might also be impossible to show a clear trend of the suicide rate for some countries."
   ],
   "cell_type": "markdown",
   "metadata": {}
  },
  {
   "source": [
    "## Research questions and/or hypotheses\n"
   ],
   "cell_type": "markdown",
   "metadata": {}
  },
  {
   "source": [
    "Reserch Questions:\n",
    "\n",
    "1. Are there any differences of suicide rate among different countries, gender groups and age groups?\n",
    "\n",
    "2. What are the factors that are highly correlated with the suicide rate, such as GDP per capita, HDI, happiness index and unemployment rate?\n",
    "\n",
    "3. What is the trend of suicide rate from 1985 to 2016? Is it increasing or decreasing? Are there any differences in changes over time among different countries, gender groups or age groups.\n",
    "\n",
    "For some of the questions above, I might only focus on selected countries due to the time limitation.\n",
    " "
   ],
   "cell_type": "markdown",
   "metadata": {}
  },
  {
   "source": [
    "## Background/Related Work:"
   ],
   "cell_type": "markdown",
   "metadata": {}
  },
  {
   "source": [
    "Previous study of suicide conducted by Szamil has shown that men are more prone to commit suicide than women and younger age groups tend to have lower suicide rate than older age groups, but the differences vary by countries.\n",
    "\n",
    "According to Suicide Awareness Voices of Education(SAVE), nearly 800,000 people die by suicide in the world each year, which is roughly one death every 40 seconds and suicide has become the 2nd leading cause of death in the world for those aged 15-24 years. It also shows the same gender disparities that suicide among males are 4 times higher than among females.\n",
    "\n",
    "\n",
    "\n",
    "#### References\n",
    "\n",
    "Szamil. (2017). Suicide in the Twenty-First Century. Retrieved from https://www.kaggle.com/szamil/suicide-in-the-twenty-first-century/notebook\n",
    "\n",
    "National Institute of Mental Health. (2020). Suicide. Retrieved from https://www.nimh.nih.gov/health/statistics/suicide.shtml\n",
    "\n",
    "Suicide Awareness Voices of Education. (2020). Suicide Statistics and Facts. Retrieved from https://save.org/about-suicide/suicide-facts/"
   ],
   "cell_type": "markdown",
   "metadata": {}
  },
  {
   "source": [
    "## Methodology"
   ],
   "cell_type": "markdown",
   "metadata": {}
  },
  {
   "source": [
    "My plan is to first apply EDA to answer the coutry, region, gender and age disparity questions, as EDA might be the most clear method to visualize general trends and distribution of the data.\n",
    "Then I might also calculate the correlation matrix to investigate the correlations between others factors and suicide rates. To better understand the relationship between suicide rate and other critical features mentioned above, I will probably apply linear regression model on the selected data."
   ],
   "cell_type": "markdown",
   "metadata": {}
  }
 ]
}