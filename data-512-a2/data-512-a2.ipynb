{
 "metadata": {
  "language_info": {
   "codemirror_mode": {
    "name": "ipython",
    "version": 3
   },
   "file_extension": ".py",
   "mimetype": "text/x-python",
   "name": "python",
   "nbconvert_exporter": "python",
   "pygments_lexer": "ipython3",
   "version": "3.7.6-final"
  },
  "orig_nbformat": 2,
  "kernelspec": {
   "name": "python37664bitbasecondaa19fa0c8721c42689aa0a29378e845de",
   "display_name": "Python 3.7.6 64-bit ('base': conda)"
  }
 },
 "nbformat": 4,
 "nbformat_minor": 2,
 "cells": [
  {
   "source": [
    "# A2: Bias in data"
   ],
   "cell_type": "markdown",
   "metadata": {}
  },
  {
   "cell_type": "code",
   "execution_count": 1,
   "metadata": {},
   "outputs": [],
   "source": [
    "# set up\n",
    "import os\n",
    "import sys\n",
    "import pandas as pd\n",
    "import numpy as np\n",
    "import matplotlib.pyplot as plt"
   ]
  },
  {
   "source": [
    "## Step 1: Data Preparation"
   ],
   "cell_type": "markdown",
   "metadata": {}
  },
  {
   "source": [
    "First, let's download the dataset from the data folder."
   ],
   "cell_type": "markdown",
   "metadata": {}
  },
  {
   "cell_type": "code",
   "execution_count": 2,
   "metadata": {},
   "outputs": [],
   "source": [
    "attack_comments = pd.read_csv('data/Wikipedia_Talk_Labels_Personal_Attacks/attack_annotated_comments.tsv', sep = '\\t')\n",
    "attack_annotations = pd.read_csv('data/Wikipedia_Talk_Labels_Personal_Attacks/attack_annotations.tsv',  sep = '\\t')\n",
    "attack_demograohics = pd.read_csv('data/Wikipedia_Talk_Labels_Personal_Attacks/attack_worker_demographics.tsv',  sep = '\\t')\n",
    "\n",
    "toxic_comments = pd.read_csv('data/Wikipedia_Talk_Labels_Toxicity/toxicity_annotated_comments.tsv', sep = '\\t')\n",
    "toxic_annotations = pd.read_csv('data/Wikipedia_Talk_Labels_Toxicity/toxicity_annotations.tsv',  sep = '\\t')\n",
    "toxic_demograohics = pd.read_csv('data/Wikipedia_Talk_Labels_Toxicity/toxicity_worker_demographics.tsv',  sep = '\\t')"
   ]
  },
  {
   "source": [
    "Join the three datasets for attack data."
   ],
   "cell_type": "markdown",
   "metadata": {}
  },
  {
   "cell_type": "code",
   "execution_count": 3,
   "metadata": {},
   "outputs": [],
   "source": [
    "attack = attack_comments.merge(attack_annotations, left_on = 'rev_id', right_on='rev_id')\n",
    "attack = attack.merge(attack_demograohics, left_on = 'worker_id', right_on='worker_id')"
   ]
  },
  {
   "source": [
    "For toxicity data, change the data type of rev_id to int first, before merge the datasets."
   ],
   "cell_type": "markdown",
   "metadata": {}
  },
  {
   "cell_type": "code",
   "execution_count": 4,
   "metadata": {},
   "outputs": [],
   "source": [
    "toxic_comments[\"rev_id\"]= toxic_comments[\"rev_id\"].astype(int)\n",
    "toxic_annotations[\"rev_id\"]= toxic_annotations[\"rev_id\"].astype(int)\n",
    "\n",
    "toxic = toxic_comments.merge(toxic_annotations, left_on = 'rev_id', right_on='rev_id')\n",
    "toxic = toxic.merge(toxic_demograohics, left_on = 'worker_id', right_on='worker_id')"
   ]
  },
  {
   "source": [
    "Now briefly inspect each table to check if we merge these datasets correctly"
   ],
   "cell_type": "markdown",
   "metadata": {}
  },
  {
   "cell_type": "code",
   "execution_count": 5,
   "metadata": {},
   "outputs": [
    {
     "output_type": "execute_result",
     "data": {
      "text/plain": [
       "    rev_id                                            comment  year  \\\n",
       "0    37675  `-NEWLINE_TOKENThis is not ``creative``.  Thos...  2002   \n",
       "1  3202092  NEWLINE_TOKENNEWLINE_TOKENHi. I haven't used o...  2004   \n",
       "2  4745553        NEWLINE_TOKENJust look it up.  Its obvious.  2004   \n",
       "3  4855563  NEWLINE_TOKENNEWLINE_TOKENI'm going to gather ...  2004   \n",
       "4  8350378  `NEWLINE_TOKENNEWLINE_TOKEN§ I got in touch wi...  2004   \n",
       "\n",
       "   logged_in       ns  sample  split  worker_id  quoting_attack  \\\n",
       "0      False  article  random  train       1362             0.0   \n",
       "1       True     user  random  train       1362             0.0   \n",
       "2      False     user  random  train       1362             0.0   \n",
       "3       True  article  random   test       1362             0.0   \n",
       "4       True  article  random  train       1362             0.0   \n",
       "\n",
       "   recipient_attack  third_party_attack  other_attack  attack gender  \\\n",
       "0               0.0                 0.0           0.0     0.0   male   \n",
       "1               0.0                 0.0           0.0     0.0   male   \n",
       "2               0.0                 0.0           0.0     0.0   male   \n",
       "3               0.0                 0.0           0.0     0.0   male   \n",
       "4               0.0                 0.0           0.0     0.0   male   \n",
       "\n",
       "   english_first_language age_group education  \n",
       "0                       0     18-30   masters  \n",
       "1                       0     18-30   masters  \n",
       "2                       0     18-30   masters  \n",
       "3                       0     18-30   masters  \n",
       "4                       0     18-30   masters  "
      ],
      "text/html": "<div>\n<style scoped>\n    .dataframe tbody tr th:only-of-type {\n        vertical-align: middle;\n    }\n\n    .dataframe tbody tr th {\n        vertical-align: top;\n    }\n\n    .dataframe thead th {\n        text-align: right;\n    }\n</style>\n<table border=\"1\" class=\"dataframe\">\n  <thead>\n    <tr style=\"text-align: right;\">\n      <th></th>\n      <th>rev_id</th>\n      <th>comment</th>\n      <th>year</th>\n      <th>logged_in</th>\n      <th>ns</th>\n      <th>sample</th>\n      <th>split</th>\n      <th>worker_id</th>\n      <th>quoting_attack</th>\n      <th>recipient_attack</th>\n      <th>third_party_attack</th>\n      <th>other_attack</th>\n      <th>attack</th>\n      <th>gender</th>\n      <th>english_first_language</th>\n      <th>age_group</th>\n      <th>education</th>\n    </tr>\n  </thead>\n  <tbody>\n    <tr>\n      <th>0</th>\n      <td>37675</td>\n      <td>`-NEWLINE_TOKENThis is not ``creative``.  Thos...</td>\n      <td>2002</td>\n      <td>False</td>\n      <td>article</td>\n      <td>random</td>\n      <td>train</td>\n      <td>1362</td>\n      <td>0.0</td>\n      <td>0.0</td>\n      <td>0.0</td>\n      <td>0.0</td>\n      <td>0.0</td>\n      <td>male</td>\n      <td>0</td>\n      <td>18-30</td>\n      <td>masters</td>\n    </tr>\n    <tr>\n      <th>1</th>\n      <td>3202092</td>\n      <td>NEWLINE_TOKENNEWLINE_TOKENHi. I haven't used o...</td>\n      <td>2004</td>\n      <td>True</td>\n      <td>user</td>\n      <td>random</td>\n      <td>train</td>\n      <td>1362</td>\n      <td>0.0</td>\n      <td>0.0</td>\n      <td>0.0</td>\n      <td>0.0</td>\n      <td>0.0</td>\n      <td>male</td>\n      <td>0</td>\n      <td>18-30</td>\n      <td>masters</td>\n    </tr>\n    <tr>\n      <th>2</th>\n      <td>4745553</td>\n      <td>NEWLINE_TOKENJust look it up.  Its obvious.</td>\n      <td>2004</td>\n      <td>False</td>\n      <td>user</td>\n      <td>random</td>\n      <td>train</td>\n      <td>1362</td>\n      <td>0.0</td>\n      <td>0.0</td>\n      <td>0.0</td>\n      <td>0.0</td>\n      <td>0.0</td>\n      <td>male</td>\n      <td>0</td>\n      <td>18-30</td>\n      <td>masters</td>\n    </tr>\n    <tr>\n      <th>3</th>\n      <td>4855563</td>\n      <td>NEWLINE_TOKENNEWLINE_TOKENI'm going to gather ...</td>\n      <td>2004</td>\n      <td>True</td>\n      <td>article</td>\n      <td>random</td>\n      <td>test</td>\n      <td>1362</td>\n      <td>0.0</td>\n      <td>0.0</td>\n      <td>0.0</td>\n      <td>0.0</td>\n      <td>0.0</td>\n      <td>male</td>\n      <td>0</td>\n      <td>18-30</td>\n      <td>masters</td>\n    </tr>\n    <tr>\n      <th>4</th>\n      <td>8350378</td>\n      <td>`NEWLINE_TOKENNEWLINE_TOKEN§ I got in touch wi...</td>\n      <td>2004</td>\n      <td>True</td>\n      <td>article</td>\n      <td>random</td>\n      <td>train</td>\n      <td>1362</td>\n      <td>0.0</td>\n      <td>0.0</td>\n      <td>0.0</td>\n      <td>0.0</td>\n      <td>0.0</td>\n      <td>male</td>\n      <td>0</td>\n      <td>18-30</td>\n      <td>masters</td>\n    </tr>\n  </tbody>\n</table>\n</div>"
     },
     "metadata": {},
     "execution_count": 5
    }
   ],
   "source": [
    "attack.head()"
   ]
  },
  {
   "cell_type": "code",
   "execution_count": 6,
   "metadata": {},
   "outputs": [
    {
     "output_type": "execute_result",
     "data": {
      "text/plain": [
       "    rev_id                                            comment  year  \\\n",
       "0     2232  This:NEWLINE_TOKEN:One can make an analogy in ...  2002   \n",
       "1    37346  `If they are ``indisputable`` then why does th...  2002   \n",
       "2   227181  NEWLINE_TOKENNEWLINE_TOKENWell, Ayn Rand certa...  2002   \n",
       "3  2810755  NEWLINE_TOKENNEWLINE_TOKENNEWLINE_TOKENNEWLINE...  2004   \n",
       "4  7270696  NEWLINE_TOKENNEWLINE_TOKEN==Useful info==NEWLI...  2004   \n",
       "\n",
       "   logged_in       ns  sample  split  worker_id  toxicity  toxicity_score  \\\n",
       "0       True  article  random  train        723         0             0.0   \n",
       "1       True  article  random  train        723         0             0.0   \n",
       "2       True  article  random  train        723         0             0.0   \n",
       "3       True     user  random  train        723         0             0.0   \n",
       "4       True  article  random  train        723         0             0.0   \n",
       "\n",
       "   gender  english_first_language age_group  education  \n",
       "0  female                       0     30-45  bachelors  \n",
       "1  female                       0     30-45  bachelors  \n",
       "2  female                       0     30-45  bachelors  \n",
       "3  female                       0     30-45  bachelors  \n",
       "4  female                       0     30-45  bachelors  "
      ],
      "text/html": "<div>\n<style scoped>\n    .dataframe tbody tr th:only-of-type {\n        vertical-align: middle;\n    }\n\n    .dataframe tbody tr th {\n        vertical-align: top;\n    }\n\n    .dataframe thead th {\n        text-align: right;\n    }\n</style>\n<table border=\"1\" class=\"dataframe\">\n  <thead>\n    <tr style=\"text-align: right;\">\n      <th></th>\n      <th>rev_id</th>\n      <th>comment</th>\n      <th>year</th>\n      <th>logged_in</th>\n      <th>ns</th>\n      <th>sample</th>\n      <th>split</th>\n      <th>worker_id</th>\n      <th>toxicity</th>\n      <th>toxicity_score</th>\n      <th>gender</th>\n      <th>english_first_language</th>\n      <th>age_group</th>\n      <th>education</th>\n    </tr>\n  </thead>\n  <tbody>\n    <tr>\n      <th>0</th>\n      <td>2232</td>\n      <td>This:NEWLINE_TOKEN:One can make an analogy in ...</td>\n      <td>2002</td>\n      <td>True</td>\n      <td>article</td>\n      <td>random</td>\n      <td>train</td>\n      <td>723</td>\n      <td>0</td>\n      <td>0.0</td>\n      <td>female</td>\n      <td>0</td>\n      <td>30-45</td>\n      <td>bachelors</td>\n    </tr>\n    <tr>\n      <th>1</th>\n      <td>37346</td>\n      <td>`If they are ``indisputable`` then why does th...</td>\n      <td>2002</td>\n      <td>True</td>\n      <td>article</td>\n      <td>random</td>\n      <td>train</td>\n      <td>723</td>\n      <td>0</td>\n      <td>0.0</td>\n      <td>female</td>\n      <td>0</td>\n      <td>30-45</td>\n      <td>bachelors</td>\n    </tr>\n    <tr>\n      <th>2</th>\n      <td>227181</td>\n      <td>NEWLINE_TOKENNEWLINE_TOKENWell, Ayn Rand certa...</td>\n      <td>2002</td>\n      <td>True</td>\n      <td>article</td>\n      <td>random</td>\n      <td>train</td>\n      <td>723</td>\n      <td>0</td>\n      <td>0.0</td>\n      <td>female</td>\n      <td>0</td>\n      <td>30-45</td>\n      <td>bachelors</td>\n    </tr>\n    <tr>\n      <th>3</th>\n      <td>2810755</td>\n      <td>NEWLINE_TOKENNEWLINE_TOKENNEWLINE_TOKENNEWLINE...</td>\n      <td>2004</td>\n      <td>True</td>\n      <td>user</td>\n      <td>random</td>\n      <td>train</td>\n      <td>723</td>\n      <td>0</td>\n      <td>0.0</td>\n      <td>female</td>\n      <td>0</td>\n      <td>30-45</td>\n      <td>bachelors</td>\n    </tr>\n    <tr>\n      <th>4</th>\n      <td>7270696</td>\n      <td>NEWLINE_TOKENNEWLINE_TOKEN==Useful info==NEWLI...</td>\n      <td>2004</td>\n      <td>True</td>\n      <td>article</td>\n      <td>random</td>\n      <td>train</td>\n      <td>723</td>\n      <td>0</td>\n      <td>0.0</td>\n      <td>female</td>\n      <td>0</td>\n      <td>30-45</td>\n      <td>bachelors</td>\n    </tr>\n  </tbody>\n</table>\n</div>"
     },
     "metadata": {},
     "execution_count": 6
    }
   ],
   "source": [
    "toxic.head()"
   ]
  },
  {
   "source": [
    "## Step 2: Exploratory Data Analysis"
   ],
   "cell_type": "markdown",
   "metadata": {}
  },
  {
   "source": [
    "## Step 3: "
   ],
   "cell_type": "markdown",
   "metadata": {}
  },
  {
   "source": [
    "## Step 4: Implications for research and product development"
   ],
   "cell_type": "markdown",
   "metadata": {}
  },
  {
   "source": [
    "1. Which, if any, of these demo applications would you expect the Perspective API or any model trained on the Wikipedia Talk corpus—to perform well in? Why?\n",
    "2. Which, if any, of these demo applications would you expect the Perspective API to perform poorly in? Why?\n",
    "3. What are some other contexts or applications where you would expect the Perspective API to perform particularly well, or particularly poorly? Why?\n",
    "4. What are some kinds of hostile speech that would be difficult to accurately detect using the approach used to train the Perspective API models? \n",
    "5. What are some potential unintended, negative consequences of using the Perspective API for any of these purposes? In your opinion, are these consequences likely or serious enough that you would recommend that the Perspective API not be used in these applications? Why or why not?\n",
    "6. Imagine you are one of the Google data scientists who maintains the Perspective API. If you wanted to improve the model or the API itself to make it work better for any of these purposes, how should they go about doing that?\n"
   ],
   "cell_type": "markdown",
   "metadata": {}
  }
 ]
}